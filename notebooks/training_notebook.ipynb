{
 "cells": [
  {
   "cell_type": "code",
   "execution_count": null,
   "metadata": {
    "id": "9EVB4iuiQJXZ"
   },
   "outputs": [],
   "source": [
    "%%capture\n",
    "!pip install picsellia\n",
    "!git clone https://github.com/tcotte/RetinaNet_training.git\n",
    "%cd RetinaNet_training\n",
    "!git clone https://github.com/Eli-YiLi/ScaleNet.git"
   ]
  },
  {
   "cell_type": "code",
   "execution_count": null,
   "metadata": {
    "colab": {
     "base_uri": "https://localhost:8080/"
    },
    "id": "6oDJs3fTQGpB",
    "outputId": "31994a72-ff5e-425d-a852-0d510bf4d433"
   },
   "outputs": [
    {
     "name": "stdout",
     "output_type": "stream",
     "text": [
      "Hi \u001B[94mtristan_cotte\u001B[0m, welcome back. 🥑\n",
      "Workspace: \u001B[93mSGS_France's\u001B[0m organization.\n"
     ]
    }
   ],
   "source": [
    "from picsellia import Client\n",
    "from google.colab import userdata\n",
    "\n",
    "picsellia_client = Client(api_token=userdata.get('picsellia_api_token'), organization_name='SGS_France')"
   ]
  },
  {
   "cell_type": "code",
   "execution_count": 24,
   "metadata": {
    "id": "r3MIs_9bRZjK"
   },
   "outputs": [],
   "source": [
    "api_token = userdata.get('picsellia_api_token')\n",
    "organization_id = userdata.get('picsellia_organization_id')\n",
    "experiment_id = '<experiment_id>'"
   ]
  },
  {
   "cell_type": "code",
   "execution_count": null,
   "metadata": {
    "id": "5l2k2KgIRye7"
   },
   "outputs": [],
   "source": [
    "%%capture\n",
    "!pip install python-dotenv\n",
    "!pip install pytorch_warmup\n",
    "!pip install torchmetrics"
   ]
  },
  {
   "cell_type": "code",
   "execution_count": null,
   "metadata": {
    "colab": {
     "base_uri": "https://localhost:8080/"
    },
    "id": "WXLGw5sFSuCI",
    "outputId": "130467f6-1c31-43b2-e4ac-a2bb2906aee0"
   },
   "outputs": [
    {
     "name": "stdout",
     "output_type": "stream",
     "text": [
      "/content/RetinaNet_training/training_image/picsellia_folder\n"
     ]
    }
   ],
   "source": [
    "%cd training_image/picsellia_folder"
   ]
  },
  {
   "cell_type": "code",
   "execution_count": null,
   "metadata": {
    "colab": {
     "base_uri": "https://localhost:8080/"
    },
    "id": "UlBqt45YS1br",
    "outputId": "068036ce-b4ae-43ee-abe5-00a93e40a5a6"
   },
   "outputs": [
    {
     "name": "stdout",
     "output_type": "stream",
     "text": [
      "Cloning into 'ScaleNet'...\n",
      "remote: Enumerating objects: 33, done.\u001B[K\n",
      "remote: Total 33 (delta 0), reused 0 (delta 0), pack-reused 33 (from 1)\u001B[K\n",
      "Receiving objects: 100% (33/33), 220.69 KiB | 2.25 MiB/s, done.\n",
      "Resolving deltas: 100% (10/10), done.\n"
     ]
    }
   ],
   "source": [
    "!git clone https://github.com/Eli-YiLi/ScaleNet.git"
   ]
  },
  {
   "cell_type": "code",
   "execution_count": null,
   "metadata": {
    "colab": {
     "base_uri": "https://localhost:8080/"
    },
    "id": "Tkq17tA9S6aa",
    "outputId": "5fdfe430-e82e-4998-f6c4-a7324f368a39"
   },
   "outputs": [
    {
     "name": "stdout",
     "output_type": "stream",
     "text": [
      "/content/RetinaNet_training\n"
     ]
    }
   ],
   "source": [
    "%cd /content/RetinaNet_training/"
   ]
  },
  {
   "cell_type": "code",
   "execution_count": 26,
   "metadata": {
    "id": "8caefm2YUtTY"
   },
   "outputs": [],
   "source": [
    "import os\n",
    "os.environ['api_token'] = api_token\n",
    "os.environ['organization_id'] = organization_id\n",
    "os.environ['experiment_id'] = experiment_id"
   ]
  },
  {
   "cell_type": "code",
   "execution_count": null,
   "metadata": {
    "id": "ypqdWsGKpMZF"
   },
   "outputs": [],
   "source": [
    "import torch\n",
    "torch.cuda.empty_cache()"
   ]
  },
  {
   "cell_type": "code",
   "execution_count": null,
   "metadata": {
    "id": "Zv5PLgNH0jWx"
   },
   "outputs": [],
   "source": [
    "%load_ext autoreload\n",
    "%autoreload 2"
   ]
  },
  {
   "cell_type": "code",
   "execution_count": null,
   "metadata": {
    "colab": {
     "base_uri": "https://localhost:8080/"
    },
    "id": "hNTBgbxkQ-sk",
    "outputId": "f07f1c2f-df3b-40a4-d5c5-21759165999c"
   },
   "outputs": [
    {
     "output_type": "stream",
     "name": "stdout",
     "text": [
      "Hi \u001B[94mtristan_cotte\u001B[0m, welcome back. 🥑\n",
      "Workspace: \u001B[93mSGS_France's\u001B[0m organization.\n",
      "Using device: CUDA\n",
      "A dataset was previously imported before the training.\n",
      "config.yaml was already downloaded.\n",
      "Compute class mapping for TRAIN dataset\n",
      "100% 649/649 [00:02<00:00, 274.44it/s]\n",
      "Compute class mapping for TEST dataset\n",
      "  0% 0/140 [00:00<?, ?it/s]"
     ]
    }
   ],
   "source": [
    "\n",
    "!export api_token={api_token}\n",
    "!export organization_id={organization_id}\n",
    "!export experiment_id={experiment_id}\n",
    "\n",
    "!python training_image/picsellia_folder/main.py"
   ]
  }
 ],
 "metadata": {
  "accelerator": "GPU",
  "colab": {
   "gpuType": "A100",
   "machine_shape": "hm",
   "provenance": []
  },
  "kernelspec": {
   "display_name": "Python 3",
   "name": "python3"
  },
  "language_info": {
   "name": "python"
  }
 },
 "nbformat": 4,
 "nbformat_minor": 0
}
